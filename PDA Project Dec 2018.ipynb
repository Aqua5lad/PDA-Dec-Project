{
 "cells": [
  {
   "cell_type": "markdown",
   "metadata": {},
   "source": [
    "# PDA Project Dec 2018 \n",
    "by Colm Doherty\n"
   ]
  },
  {
   "cell_type": "markdown",
   "metadata": {},
   "source": [
    "# 1. Researching an existing dataset"
   ]
  },
  {
   "cell_type": "markdown",
   "metadata": {},
   "source": [
    "As a recreational sailor I'm very interested in weather data. I searched for & found a good dataset source on Data.gov.ie, compiled by Met Eireann and detailing monthly rainfall at the Dun Laoghaire weather station, 1997-2018. It consists of approx 250 data points for each of 4 different variables, and it's available at: https://cli.fusio.net/cli/climate_data/webdata/mly9223.csv\n",
    "        "
   ]
  },
  {
   "cell_type": "markdown",
   "metadata": {},
   "source": [
    "## Import Libraries"
   ]
  },
  {
   "cell_type": "code",
   "execution_count": 1,
   "metadata": {},
   "outputs": [],
   "source": [
    "# Import pandas etc.\n",
    "import pandas as pd\n",
    "import numpy as np\n",
    "import matplotlib.pyplot as plt\n",
    "%matplotlib inline\n",
    "import seaborn as sns\n",
    "from scipy import stats\n",
    "import statistics"
   ]
  },
  {
   "cell_type": "markdown",
   "metadata": {},
   "source": [
    "## Import Dataset"
   ]
  },
  {
   "cell_type": "code",
   "execution_count": 2,
   "metadata": {
    "scrolled": true
   },
   "outputs": [],
   "source": [
    "# Load the dataset\n",
    "import csv as df\n",
    "df = pd.read_csv(\"MET9223.csv\", skiprows=13) "
   ]
  },
  {
   "cell_type": "markdown",
   "metadata": {},
   "source": [
    "## Investigate the variable types and their distributions"
   ]
  },
  {
   "cell_type": "markdown",
   "metadata": {},
   "source": [
    "The four variables measured are: \n",
    "\"rain\":  -  Precipitation Amount (mm), \n",
    "\"gdf\":   -  Greatest daily fall (mm), \n",
    "\"rd\":    -  Number of rain days (0.2mm or more), \n",
    "\"wd\":    -  Number of wet days (1.0 mm or more)\t\n"
   ]
  },
  {
   "cell_type": "code",
   "execution_count": 3,
   "metadata": {},
   "outputs": [
    {
     "data": {
      "text/html": [
       "<div>\n",
       "<style scoped>\n",
       "    .dataframe tbody tr th:only-of-type {\n",
       "        vertical-align: middle;\n",
       "    }\n",
       "\n",
       "    .dataframe tbody tr th {\n",
       "        vertical-align: top;\n",
       "    }\n",
       "\n",
       "    .dataframe thead th {\n",
       "        text-align: right;\n",
       "    }\n",
       "</style>\n",
       "<table border=\"1\" class=\"dataframe\">\n",
       "  <thead>\n",
       "    <tr style=\"text-align: right;\">\n",
       "      <th></th>\n",
       "      <th>year</th>\n",
       "      <th>month</th>\n",
       "      <th>rain</th>\n",
       "      <th>gdf</th>\n",
       "      <th>rd</th>\n",
       "      <th>wd</th>\n",
       "    </tr>\n",
       "  </thead>\n",
       "  <tbody>\n",
       "    <tr>\n",
       "      <th>0</th>\n",
       "      <td>1997</td>\n",
       "      <td>8</td>\n",
       "      <td>91.8</td>\n",
       "      <td>17.4</td>\n",
       "      <td>18</td>\n",
       "      <td>16</td>\n",
       "    </tr>\n",
       "    <tr>\n",
       "      <th>1</th>\n",
       "      <td>1997</td>\n",
       "      <td>9</td>\n",
       "      <td>11.5</td>\n",
       "      <td>2.9</td>\n",
       "      <td>12</td>\n",
       "      <td>4</td>\n",
       "    </tr>\n",
       "    <tr>\n",
       "      <th>2</th>\n",
       "      <td>1997</td>\n",
       "      <td>10</td>\n",
       "      <td>70.7</td>\n",
       "      <td>20.7</td>\n",
       "      <td>14</td>\n",
       "      <td>10</td>\n",
       "    </tr>\n",
       "    <tr>\n",
       "      <th>3</th>\n",
       "      <td>1997</td>\n",
       "      <td>11</td>\n",
       "      <td>187.4</td>\n",
       "      <td>54.6</td>\n",
       "      <td>22</td>\n",
       "      <td>17</td>\n",
       "    </tr>\n",
       "    <tr>\n",
       "      <th>4</th>\n",
       "      <td>1997</td>\n",
       "      <td>12</td>\n",
       "      <td>84.4</td>\n",
       "      <td>21.7</td>\n",
       "      <td>14</td>\n",
       "      <td>12</td>\n",
       "    </tr>\n",
       "    <tr>\n",
       "      <th>5</th>\n",
       "      <td>1998</td>\n",
       "      <td>1</td>\n",
       "      <td>109.4</td>\n",
       "      <td>16.5</td>\n",
       "      <td>19</td>\n",
       "      <td>15</td>\n",
       "    </tr>\n",
       "    <tr>\n",
       "      <th>6</th>\n",
       "      <td>1998</td>\n",
       "      <td>2</td>\n",
       "      <td>8.4</td>\n",
       "      <td>2.9</td>\n",
       "      <td>8</td>\n",
       "      <td>4</td>\n",
       "    </tr>\n",
       "    <tr>\n",
       "      <th>7</th>\n",
       "      <td>1998</td>\n",
       "      <td>3</td>\n",
       "      <td>61.3</td>\n",
       "      <td>10.3</td>\n",
       "      <td>15</td>\n",
       "      <td>11</td>\n",
       "    </tr>\n",
       "    <tr>\n",
       "      <th>8</th>\n",
       "      <td>1998</td>\n",
       "      <td>4</td>\n",
       "      <td>136.5</td>\n",
       "      <td>39</td>\n",
       "      <td>26</td>\n",
       "      <td>16</td>\n",
       "    </tr>\n",
       "    <tr>\n",
       "      <th>9</th>\n",
       "      <td>1998</td>\n",
       "      <td>5</td>\n",
       "      <td>27.7</td>\n",
       "      <td>12.5</td>\n",
       "      <td>11</td>\n",
       "      <td>5</td>\n",
       "    </tr>\n",
       "    <tr>\n",
       "      <th>10</th>\n",
       "      <td>1998</td>\n",
       "      <td>6</td>\n",
       "      <td>125.1</td>\n",
       "      <td>29.1</td>\n",
       "      <td></td>\n",
       "      <td></td>\n",
       "    </tr>\n",
       "    <tr>\n",
       "      <th>11</th>\n",
       "      <td>1998</td>\n",
       "      <td>7</td>\n",
       "      <td>34.2</td>\n",
       "      <td></td>\n",
       "      <td></td>\n",
       "      <td></td>\n",
       "    </tr>\n",
       "    <tr>\n",
       "      <th>12</th>\n",
       "      <td>1998</td>\n",
       "      <td>8</td>\n",
       "      <td>33.8</td>\n",
       "      <td>13.2</td>\n",
       "      <td>9</td>\n",
       "      <td>7</td>\n",
       "    </tr>\n",
       "    <tr>\n",
       "      <th>13</th>\n",
       "      <td>1998</td>\n",
       "      <td>9</td>\n",
       "      <td>89.4</td>\n",
       "      <td>21.6</td>\n",
       "      <td>18</td>\n",
       "      <td>17</td>\n",
       "    </tr>\n",
       "    <tr>\n",
       "      <th>14</th>\n",
       "      <td>1998</td>\n",
       "      <td>10</td>\n",
       "      <td>73.5</td>\n",
       "      <td>8</td>\n",
       "      <td>23</td>\n",
       "      <td>15</td>\n",
       "    </tr>\n",
       "    <tr>\n",
       "      <th>15</th>\n",
       "      <td>1998</td>\n",
       "      <td>11</td>\n",
       "      <td>87.1</td>\n",
       "      <td>23</td>\n",
       "      <td>19</td>\n",
       "      <td>14</td>\n",
       "    </tr>\n",
       "    <tr>\n",
       "      <th>16</th>\n",
       "      <td>1998</td>\n",
       "      <td>12</td>\n",
       "      <td>74.8</td>\n",
       "      <td>28.7</td>\n",
       "      <td>23</td>\n",
       "      <td>17</td>\n",
       "    </tr>\n",
       "    <tr>\n",
       "      <th>17</th>\n",
       "      <td>1999</td>\n",
       "      <td>1</td>\n",
       "      <td>61.8</td>\n",
       "      <td>9.3</td>\n",
       "      <td>22</td>\n",
       "      <td>12</td>\n",
       "    </tr>\n",
       "    <tr>\n",
       "      <th>18</th>\n",
       "      <td>1999</td>\n",
       "      <td>2</td>\n",
       "      <td>22.4</td>\n",
       "      <td>3.9</td>\n",
       "      <td>15</td>\n",
       "      <td>6</td>\n",
       "    </tr>\n",
       "    <tr>\n",
       "      <th>19</th>\n",
       "      <td>1999</td>\n",
       "      <td>3</td>\n",
       "      <td>19.9</td>\n",
       "      <td>4.8</td>\n",
       "      <td>13</td>\n",
       "      <td>5</td>\n",
       "    </tr>\n",
       "    <tr>\n",
       "      <th>20</th>\n",
       "      <td>1999</td>\n",
       "      <td>4</td>\n",
       "      <td>67.7</td>\n",
       "      <td>15.6</td>\n",
       "      <td>19</td>\n",
       "      <td>14</td>\n",
       "    </tr>\n",
       "    <tr>\n",
       "      <th>21</th>\n",
       "      <td>1999</td>\n",
       "      <td>5</td>\n",
       "      <td>48.1</td>\n",
       "      <td>14.5</td>\n",
       "      <td>14</td>\n",
       "      <td>10</td>\n",
       "    </tr>\n",
       "    <tr>\n",
       "      <th>22</th>\n",
       "      <td>1999</td>\n",
       "      <td>6</td>\n",
       "      <td>58.2</td>\n",
       "      <td>22.5</td>\n",
       "      <td>15</td>\n",
       "      <td>11</td>\n",
       "    </tr>\n",
       "    <tr>\n",
       "      <th>23</th>\n",
       "      <td>1999</td>\n",
       "      <td>7</td>\n",
       "      <td>19.7</td>\n",
       "      <td></td>\n",
       "      <td></td>\n",
       "      <td></td>\n",
       "    </tr>\n",
       "    <tr>\n",
       "      <th>24</th>\n",
       "      <td>1999</td>\n",
       "      <td>8</td>\n",
       "      <td>119.6</td>\n",
       "      <td>41</td>\n",
       "      <td>15</td>\n",
       "      <td>9</td>\n",
       "    </tr>\n",
       "    <tr>\n",
       "      <th>25</th>\n",
       "      <td>1999</td>\n",
       "      <td>9</td>\n",
       "      <td>139.8</td>\n",
       "      <td>27.8</td>\n",
       "      <td>20</td>\n",
       "      <td>13</td>\n",
       "    </tr>\n",
       "    <tr>\n",
       "      <th>26</th>\n",
       "      <td>1999</td>\n",
       "      <td>10</td>\n",
       "      <td>42.9</td>\n",
       "      <td>9.3</td>\n",
       "      <td>13</td>\n",
       "      <td>7</td>\n",
       "    </tr>\n",
       "    <tr>\n",
       "      <th>27</th>\n",
       "      <td>1999</td>\n",
       "      <td>11</td>\n",
       "      <td>41.9</td>\n",
       "      <td>11.1</td>\n",
       "      <td>16</td>\n",
       "      <td>6</td>\n",
       "    </tr>\n",
       "    <tr>\n",
       "      <th>28</th>\n",
       "      <td>1999</td>\n",
       "      <td>12</td>\n",
       "      <td>61.0</td>\n",
       "      <td>12.3</td>\n",
       "      <td>20</td>\n",
       "      <td>12</td>\n",
       "    </tr>\n",
       "    <tr>\n",
       "      <th>29</th>\n",
       "      <td>2000</td>\n",
       "      <td>1</td>\n",
       "      <td>26.1</td>\n",
       "      <td>9.5</td>\n",
       "      <td>14</td>\n",
       "      <td>6</td>\n",
       "    </tr>\n",
       "    <tr>\n",
       "      <th>...</th>\n",
       "      <td>...</td>\n",
       "      <td>...</td>\n",
       "      <td>...</td>\n",
       "      <td>...</td>\n",
       "      <td>...</td>\n",
       "      <td>...</td>\n",
       "    </tr>\n",
       "    <tr>\n",
       "      <th>223</th>\n",
       "      <td>2016</td>\n",
       "      <td>3</td>\n",
       "      <td>29.7</td>\n",
       "      <td>5.7</td>\n",
       "      <td>14</td>\n",
       "      <td>8</td>\n",
       "    </tr>\n",
       "    <tr>\n",
       "      <th>224</th>\n",
       "      <td>2016</td>\n",
       "      <td>4</td>\n",
       "      <td>55.6</td>\n",
       "      <td>29.7</td>\n",
       "      <td>13</td>\n",
       "      <td>9</td>\n",
       "    </tr>\n",
       "    <tr>\n",
       "      <th>225</th>\n",
       "      <td>2016</td>\n",
       "      <td>5</td>\n",
       "      <td>38.7</td>\n",
       "      <td>7.3</td>\n",
       "      <td>13</td>\n",
       "      <td>9</td>\n",
       "    </tr>\n",
       "    <tr>\n",
       "      <th>226</th>\n",
       "      <td>2016</td>\n",
       "      <td>6</td>\n",
       "      <td>57.5</td>\n",
       "      <td>8.5</td>\n",
       "      <td>16</td>\n",
       "      <td>14</td>\n",
       "    </tr>\n",
       "    <tr>\n",
       "      <th>227</th>\n",
       "      <td>2016</td>\n",
       "      <td>7</td>\n",
       "      <td>28.0</td>\n",
       "      <td>4</td>\n",
       "      <td>17</td>\n",
       "      <td>11</td>\n",
       "    </tr>\n",
       "    <tr>\n",
       "      <th>228</th>\n",
       "      <td>2016</td>\n",
       "      <td>8</td>\n",
       "      <td>55.5</td>\n",
       "      <td>26.6</td>\n",
       "      <td>15</td>\n",
       "      <td>8</td>\n",
       "    </tr>\n",
       "    <tr>\n",
       "      <th>229</th>\n",
       "      <td>2016</td>\n",
       "      <td>9</td>\n",
       "      <td>68.6</td>\n",
       "      <td>20.4</td>\n",
       "      <td>16</td>\n",
       "      <td>14</td>\n",
       "    </tr>\n",
       "    <tr>\n",
       "      <th>230</th>\n",
       "      <td>2016</td>\n",
       "      <td>10</td>\n",
       "      <td>38.6</td>\n",
       "      <td>15.8</td>\n",
       "      <td>8</td>\n",
       "      <td>4</td>\n",
       "    </tr>\n",
       "    <tr>\n",
       "      <th>231</th>\n",
       "      <td>2016</td>\n",
       "      <td>11</td>\n",
       "      <td>31.0</td>\n",
       "      <td>8.4</td>\n",
       "      <td>13</td>\n",
       "      <td>7</td>\n",
       "    </tr>\n",
       "    <tr>\n",
       "      <th>232</th>\n",
       "      <td>2016</td>\n",
       "      <td>12</td>\n",
       "      <td>55.0</td>\n",
       "      <td>13.2</td>\n",
       "      <td>15</td>\n",
       "      <td>11</td>\n",
       "    </tr>\n",
       "    <tr>\n",
       "      <th>233</th>\n",
       "      <td>2017</td>\n",
       "      <td>1</td>\n",
       "      <td>19.3</td>\n",
       "      <td>10.5</td>\n",
       "      <td>13</td>\n",
       "      <td>5</td>\n",
       "    </tr>\n",
       "    <tr>\n",
       "      <th>234</th>\n",
       "      <td>2017</td>\n",
       "      <td>2</td>\n",
       "      <td>66.5</td>\n",
       "      <td>12.7</td>\n",
       "      <td>16</td>\n",
       "      <td>12</td>\n",
       "    </tr>\n",
       "    <tr>\n",
       "      <th>235</th>\n",
       "      <td>2017</td>\n",
       "      <td>3</td>\n",
       "      <td>57.3</td>\n",
       "      <td>14.9</td>\n",
       "      <td>16</td>\n",
       "      <td>12</td>\n",
       "    </tr>\n",
       "    <tr>\n",
       "      <th>236</th>\n",
       "      <td>2017</td>\n",
       "      <td>4</td>\n",
       "      <td>9.9</td>\n",
       "      <td>4</td>\n",
       "      <td>7</td>\n",
       "      <td>3</td>\n",
       "    </tr>\n",
       "    <tr>\n",
       "      <th>237</th>\n",
       "      <td>2017</td>\n",
       "      <td>5</td>\n",
       "      <td>61.5</td>\n",
       "      <td>32</td>\n",
       "      <td>16</td>\n",
       "      <td>9</td>\n",
       "    </tr>\n",
       "    <tr>\n",
       "      <th>238</th>\n",
       "      <td>2017</td>\n",
       "      <td>6</td>\n",
       "      <td>84.3</td>\n",
       "      <td>18</td>\n",
       "      <td>18</td>\n",
       "      <td>12</td>\n",
       "    </tr>\n",
       "    <tr>\n",
       "      <th>239</th>\n",
       "      <td>2017</td>\n",
       "      <td>7</td>\n",
       "      <td>38.4</td>\n",
       "      <td>11.1</td>\n",
       "      <td>12</td>\n",
       "      <td>7</td>\n",
       "    </tr>\n",
       "    <tr>\n",
       "      <th>240</th>\n",
       "      <td>2017</td>\n",
       "      <td>8</td>\n",
       "      <td>53.1</td>\n",
       "      <td>17.5</td>\n",
       "      <td>15</td>\n",
       "      <td>9</td>\n",
       "    </tr>\n",
       "    <tr>\n",
       "      <th>241</th>\n",
       "      <td>2017</td>\n",
       "      <td>9</td>\n",
       "      <td>91.5</td>\n",
       "      <td>19</td>\n",
       "      <td>23</td>\n",
       "      <td>13</td>\n",
       "    </tr>\n",
       "    <tr>\n",
       "      <th>242</th>\n",
       "      <td>2017</td>\n",
       "      <td>10</td>\n",
       "      <td>55.1</td>\n",
       "      <td>14.9</td>\n",
       "      <td>15</td>\n",
       "      <td>10</td>\n",
       "    </tr>\n",
       "    <tr>\n",
       "      <th>243</th>\n",
       "      <td>2017</td>\n",
       "      <td>11</td>\n",
       "      <td>72.3</td>\n",
       "      <td>29.8</td>\n",
       "      <td>15</td>\n",
       "      <td>10</td>\n",
       "    </tr>\n",
       "    <tr>\n",
       "      <th>244</th>\n",
       "      <td>2017</td>\n",
       "      <td>12</td>\n",
       "      <td>57.9</td>\n",
       "      <td>16.2</td>\n",
       "      <td>15</td>\n",
       "      <td>10</td>\n",
       "    </tr>\n",
       "    <tr>\n",
       "      <th>245</th>\n",
       "      <td>2018</td>\n",
       "      <td>1</td>\n",
       "      <td>91.8</td>\n",
       "      <td>18</td>\n",
       "      <td>21</td>\n",
       "      <td>17</td>\n",
       "    </tr>\n",
       "    <tr>\n",
       "      <th>246</th>\n",
       "      <td>2018</td>\n",
       "      <td>2</td>\n",
       "      <td>29.6</td>\n",
       "      <td>7.4</td>\n",
       "      <td>15</td>\n",
       "      <td>11</td>\n",
       "    </tr>\n",
       "    <tr>\n",
       "      <th>247</th>\n",
       "      <td>2018</td>\n",
       "      <td>3</td>\n",
       "      <td>113.1</td>\n",
       "      <td>36</td>\n",
       "      <td>22</td>\n",
       "      <td>18</td>\n",
       "    </tr>\n",
       "    <tr>\n",
       "      <th>248</th>\n",
       "      <td>2018</td>\n",
       "      <td>4</td>\n",
       "      <td>78.4</td>\n",
       "      <td>12.1</td>\n",
       "      <td>21</td>\n",
       "      <td>16</td>\n",
       "    </tr>\n",
       "    <tr>\n",
       "      <th>249</th>\n",
       "      <td>2018</td>\n",
       "      <td>5</td>\n",
       "      <td>20.1</td>\n",
       "      <td>6</td>\n",
       "      <td>10</td>\n",
       "      <td>5</td>\n",
       "    </tr>\n",
       "    <tr>\n",
       "      <th>250</th>\n",
       "      <td>2018</td>\n",
       "      <td>6</td>\n",
       "      <td>1.2</td>\n",
       "      <td>1</td>\n",
       "      <td>2</td>\n",
       "      <td>1</td>\n",
       "    </tr>\n",
       "    <tr>\n",
       "      <th>251</th>\n",
       "      <td>2018</td>\n",
       "      <td>7</td>\n",
       "      <td>43.5</td>\n",
       "      <td>12.3</td>\n",
       "      <td>9</td>\n",
       "      <td>7</td>\n",
       "    </tr>\n",
       "    <tr>\n",
       "      <th>252</th>\n",
       "      <td>2018</td>\n",
       "      <td>8</td>\n",
       "      <td>27.8</td>\n",
       "      <td>11.4</td>\n",
       "      <td>14</td>\n",
       "      <td>10</td>\n",
       "    </tr>\n",
       "  </tbody>\n",
       "</table>\n",
       "<p>253 rows × 6 columns</p>\n",
       "</div>"
      ],
      "text/plain": [
       "     year  month   rain   gdf  rd  wd\n",
       "0    1997      8   91.8  17.4  18  16\n",
       "1    1997      9   11.5   2.9  12   4\n",
       "2    1997     10   70.7  20.7  14  10\n",
       "3    1997     11  187.4  54.6  22  17\n",
       "4    1997     12   84.4  21.7  14  12\n",
       "5    1998      1  109.4  16.5  19  15\n",
       "6    1998      2    8.4   2.9   8   4\n",
       "7    1998      3   61.3  10.3  15  11\n",
       "8    1998      4  136.5    39  26  16\n",
       "9    1998      5   27.7  12.5  11   5\n",
       "10   1998      6  125.1  29.1        \n",
       "11   1998      7   34.2              \n",
       "12   1998      8   33.8  13.2   9   7\n",
       "13   1998      9   89.4  21.6  18  17\n",
       "14   1998     10   73.5     8  23  15\n",
       "15   1998     11   87.1    23  19  14\n",
       "16   1998     12   74.8  28.7  23  17\n",
       "17   1999      1   61.8   9.3  22  12\n",
       "18   1999      2   22.4   3.9  15   6\n",
       "19   1999      3   19.9   4.8  13   5\n",
       "20   1999      4   67.7  15.6  19  14\n",
       "21   1999      5   48.1  14.5  14  10\n",
       "22   1999      6   58.2  22.5  15  11\n",
       "23   1999      7   19.7              \n",
       "24   1999      8  119.6    41  15   9\n",
       "25   1999      9  139.8  27.8  20  13\n",
       "26   1999     10   42.9   9.3  13   7\n",
       "27   1999     11   41.9  11.1  16   6\n",
       "28   1999     12   61.0  12.3  20  12\n",
       "29   2000      1   26.1   9.5  14   6\n",
       "..    ...    ...    ...   ...  ..  ..\n",
       "223  2016      3   29.7   5.7  14   8\n",
       "224  2016      4   55.6  29.7  13   9\n",
       "225  2016      5   38.7   7.3  13   9\n",
       "226  2016      6   57.5   8.5  16  14\n",
       "227  2016      7   28.0     4  17  11\n",
       "228  2016      8   55.5  26.6  15   8\n",
       "229  2016      9   68.6  20.4  16  14\n",
       "230  2016     10   38.6  15.8   8   4\n",
       "231  2016     11   31.0   8.4  13   7\n",
       "232  2016     12   55.0  13.2  15  11\n",
       "233  2017      1   19.3  10.5  13   5\n",
       "234  2017      2   66.5  12.7  16  12\n",
       "235  2017      3   57.3  14.9  16  12\n",
       "236  2017      4    9.9     4   7   3\n",
       "237  2017      5   61.5    32  16   9\n",
       "238  2017      6   84.3    18  18  12\n",
       "239  2017      7   38.4  11.1  12   7\n",
       "240  2017      8   53.1  17.5  15   9\n",
       "241  2017      9   91.5    19  23  13\n",
       "242  2017     10   55.1  14.9  15  10\n",
       "243  2017     11   72.3  29.8  15  10\n",
       "244  2017     12   57.9  16.2  15  10\n",
       "245  2018      1   91.8    18  21  17\n",
       "246  2018      2   29.6   7.4  15  11\n",
       "247  2018      3  113.1    36  22  18\n",
       "248  2018      4   78.4  12.1  21  16\n",
       "249  2018      5   20.1     6  10   5\n",
       "250  2018      6    1.2     1   2   1\n",
       "251  2018      7   43.5  12.3   9   7\n",
       "252  2018      8   27.8  11.4  14  10\n",
       "\n",
       "[253 rows x 6 columns]"
      ]
     },
     "execution_count": 3,
     "metadata": {},
     "output_type": "execute_result"
    }
   ],
   "source": [
    "df"
   ]
  },
  {
   "cell_type": "code",
   "execution_count": 4,
   "metadata": {},
   "outputs": [
    {
     "data": {
      "text/plain": [
       "year       int64\n",
       "month      int64\n",
       "rain     float64\n",
       "gdf       object\n",
       "rd        object\n",
       "wd        object\n",
       "dtype: object"
      ]
     },
     "execution_count": 4,
     "metadata": {},
     "output_type": "execute_result"
    }
   ],
   "source": [
    "df.dtypes"
   ]
  },
  {
   "cell_type": "markdown",
   "metadata": {},
   "source": [
    "So 'rain' is a floating point value, while 'gdf','rd' and 'wd' are currently dtype objects. We need these column values to be numeric. "
   ]
  },
  {
   "cell_type": "code",
   "execution_count": 23,
   "metadata": {},
   "outputs": [
    {
     "name": "stderr",
     "output_type": "stream",
     "text": [
      "/anaconda3/lib/python3.6/site-packages/ipykernel_launcher.py:2: FutureWarning: convert_objects is deprecated.  To re-infer data dtypes for object columns, use DataFrame.infer_objects()\n",
      "For all other conversions use the data-type specific converters pd.to_datetime, pd.to_timedelta and pd.to_numeric.\n",
      "  \n"
     ]
    },
    {
     "data": {
      "text/plain": [
       "year       int64\n",
       "month      int64\n",
       "rain     float64\n",
       "gdf      float64\n",
       "rd       float64\n",
       "wd       float64\n",
       "dtype: object"
      ]
     },
     "execution_count": 23,
     "metadata": {},
     "output_type": "execute_result"
    }
   ],
   "source": [
    "# change object rows to Numeric\n",
    "df = df.convert_objects(convert_numeric=True)\n",
    "df.dtypes"
   ]
  },
  {
   "cell_type": "code",
   "execution_count": 24,
   "metadata": {},
   "outputs": [
    {
     "data": {
      "text/html": [
       "<div>\n",
       "<style scoped>\n",
       "    .dataframe tbody tr th:only-of-type {\n",
       "        vertical-align: middle;\n",
       "    }\n",
       "\n",
       "    .dataframe tbody tr th {\n",
       "        vertical-align: top;\n",
       "    }\n",
       "\n",
       "    .dataframe thead th {\n",
       "        text-align: right;\n",
       "    }\n",
       "</style>\n",
       "<table border=\"1\" class=\"dataframe\">\n",
       "  <thead>\n",
       "    <tr style=\"text-align: right;\">\n",
       "      <th></th>\n",
       "      <th>rain</th>\n",
       "      <th>gdf</th>\n",
       "      <th>rd</th>\n",
       "      <th>wd</th>\n",
       "    </tr>\n",
       "  </thead>\n",
       "  <tbody>\n",
       "    <tr>\n",
       "      <th>count</th>\n",
       "      <td>253.000000</td>\n",
       "      <td>244.000000</td>\n",
       "      <td>247.000000</td>\n",
       "      <td>247.000000</td>\n",
       "    </tr>\n",
       "    <tr>\n",
       "      <th>mean</th>\n",
       "      <td>66.385375</td>\n",
       "      <td>18.068443</td>\n",
       "      <td>15.777328</td>\n",
       "      <td>10.846154</td>\n",
       "    </tr>\n",
       "    <tr>\n",
       "      <th>std</th>\n",
       "      <td>40.455267</td>\n",
       "      <td>11.742786</td>\n",
       "      <td>4.752728</td>\n",
       "      <td>4.291300</td>\n",
       "    </tr>\n",
       "    <tr>\n",
       "      <th>min</th>\n",
       "      <td>1.200000</td>\n",
       "      <td>1.000000</td>\n",
       "      <td>2.000000</td>\n",
       "      <td>1.000000</td>\n",
       "    </tr>\n",
       "    <tr>\n",
       "      <th>25%</th>\n",
       "      <td>36.600000</td>\n",
       "      <td>9.500000</td>\n",
       "      <td>13.000000</td>\n",
       "      <td>8.000000</td>\n",
       "    </tr>\n",
       "    <tr>\n",
       "      <th>50%</th>\n",
       "      <td>57.500000</td>\n",
       "      <td>14.650000</td>\n",
       "      <td>16.000000</td>\n",
       "      <td>11.000000</td>\n",
       "    </tr>\n",
       "    <tr>\n",
       "      <th>75%</th>\n",
       "      <td>88.300000</td>\n",
       "      <td>24.350000</td>\n",
       "      <td>19.000000</td>\n",
       "      <td>14.000000</td>\n",
       "    </tr>\n",
       "    <tr>\n",
       "      <th>max</th>\n",
       "      <td>207.000000</td>\n",
       "      <td>75.600000</td>\n",
       "      <td>30.000000</td>\n",
       "      <td>22.000000</td>\n",
       "    </tr>\n",
       "  </tbody>\n",
       "</table>\n",
       "</div>"
      ],
      "text/plain": [
       "             rain         gdf          rd          wd\n",
       "count  253.000000  244.000000  247.000000  247.000000\n",
       "mean    66.385375   18.068443   15.777328   10.846154\n",
       "std     40.455267   11.742786    4.752728    4.291300\n",
       "min      1.200000    1.000000    2.000000    1.000000\n",
       "25%     36.600000    9.500000   13.000000    8.000000\n",
       "50%     57.500000   14.650000   16.000000   11.000000\n",
       "75%     88.300000   24.350000   19.000000   14.000000\n",
       "max    207.000000   75.600000   30.000000   22.000000"
      ]
     },
     "execution_count": 24,
     "metadata": {},
     "output_type": "execute_result"
    }
   ],
   "source": [
    "# Now lets ignore the Year & Month columns (0 & 1):\n",
    "df1 = df.iloc[:,2:6]\n",
    "# what does the data distribution look like?\n",
    "df1.describe()"
   ]
  },
  {
   "cell_type": "markdown",
   "metadata": {},
   "source": [
    "All columns are missing some values. The 'rain' & 'gdf' columns show 244 observations while the other two columns each show 242 observations. "
   ]
  },
  {
   "cell_type": "code",
   "execution_count": 7,
   "metadata": {
    "scrolled": true
   },
   "outputs": [
    {
     "data": {
      "image/png": "[encoded data removed]",
      "text/plain": [
       "<Figure size 396x396 with 1 Axes>"
      ]
     },
     "metadata": {},
     "output_type": "display_data"
    }
   ],
   "source": [
    "# plot monthly rain data: \n",
    "# https://stackoverflow.com/questions/52975561/how-to-combine-month-and-year-columns-of-data-frame-to-form-time-series-data\n",
    "\n",
    "ax = df.set_index(pd.to_datetime(df[['year','month']].assign(day=1)))['rain']\\\n",
    "       .plot(color='b', figsize=(5.5,5.5), title='Monthly Precipitation')\n",
    "_ = ax.set_xlabel('')\n",
    "_ = ax.set_ylabel('rain amount (mm)')           "
   ]
  },
  {
   "cell_type": "code",
   "execution_count": 8,
   "metadata": {},
   "outputs": [
    {
     "data": {
      "image/png": "[encoded data removed]",
      "text/plain": [
       "<Figure size 396x396 with 1 Axes>"
      ]
     },
     "metadata": {},
     "output_type": "display_data"
    }
   ],
   "source": [
    "# plot monthly \"greatest daily fall\" data: \n",
    "# https://stackoverflow.com/questions/52975561/how-to-combine-month-and-year-columns-of-data-frame-to-form-time-series-data\n",
    "\n",
    "ax = df.set_index(pd.to_datetime(df[['year','month']].assign(day=1)))['gdf']\\\n",
    "       .plot(color='b', figsize=(5.5,5.5), title='\"greatest daily fall\"')\n",
    "_ = ax.set_xlabel('')\n",
    "_ = ax.set_ylabel('greatest daily fall (mm)')  \n"
   ]
  },
  {
   "cell_type": "markdown",
   "metadata": {},
   "source": [
    "## Revisit the descriptive statistics of the variables in the dataset"
   ]
  },
  {
   "cell_type": "code",
   "execution_count": 25,
   "metadata": {},
   "outputs": [
    {
     "data": {
      "text/html": [
       "<div>\n",
       "<style scoped>\n",
       "    .dataframe tbody tr th:only-of-type {\n",
       "        vertical-align: middle;\n",
       "    }\n",
       "\n",
       "    .dataframe tbody tr th {\n",
       "        vertical-align: top;\n",
       "    }\n",
       "\n",
       "    .dataframe thead th {\n",
       "        text-align: right;\n",
       "    }\n",
       "</style>\n",
       "<table border=\"1\" class=\"dataframe\">\n",
       "  <thead>\n",
       "    <tr style=\"text-align: right;\">\n",
       "      <th></th>\n",
       "      <th>rain</th>\n",
       "      <th>gdf</th>\n",
       "      <th>rd</th>\n",
       "      <th>wd</th>\n",
       "    </tr>\n",
       "  </thead>\n",
       "  <tbody>\n",
       "    <tr>\n",
       "      <th>count</th>\n",
       "      <td>253.000000</td>\n",
       "      <td>244.000000</td>\n",
       "      <td>247.000000</td>\n",
       "      <td>247.000000</td>\n",
       "    </tr>\n",
       "    <tr>\n",
       "      <th>mean</th>\n",
       "      <td>66.385375</td>\n",
       "      <td>18.068443</td>\n",
       "      <td>15.777328</td>\n",
       "      <td>10.846154</td>\n",
       "    </tr>\n",
       "    <tr>\n",
       "      <th>std</th>\n",
       "      <td>40.455267</td>\n",
       "      <td>11.742786</td>\n",
       "      <td>4.752728</td>\n",
       "      <td>4.291300</td>\n",
       "    </tr>\n",
       "    <tr>\n",
       "      <th>min</th>\n",
       "      <td>1.200000</td>\n",
       "      <td>1.000000</td>\n",
       "      <td>2.000000</td>\n",
       "      <td>1.000000</td>\n",
       "    </tr>\n",
       "    <tr>\n",
       "      <th>25%</th>\n",
       "      <td>36.600000</td>\n",
       "      <td>9.500000</td>\n",
       "      <td>13.000000</td>\n",
       "      <td>8.000000</td>\n",
       "    </tr>\n",
       "    <tr>\n",
       "      <th>50%</th>\n",
       "      <td>57.500000</td>\n",
       "      <td>14.650000</td>\n",
       "      <td>16.000000</td>\n",
       "      <td>11.000000</td>\n",
       "    </tr>\n",
       "    <tr>\n",
       "      <th>75%</th>\n",
       "      <td>88.300000</td>\n",
       "      <td>24.350000</td>\n",
       "      <td>19.000000</td>\n",
       "      <td>14.000000</td>\n",
       "    </tr>\n",
       "    <tr>\n",
       "      <th>max</th>\n",
       "      <td>207.000000</td>\n",
       "      <td>75.600000</td>\n",
       "      <td>30.000000</td>\n",
       "      <td>22.000000</td>\n",
       "    </tr>\n",
       "  </tbody>\n",
       "</table>\n",
       "</div>"
      ],
      "text/plain": [
       "             rain         gdf          rd          wd\n",
       "count  253.000000  244.000000  247.000000  247.000000\n",
       "mean    66.385375   18.068443   15.777328   10.846154\n",
       "std     40.455267   11.742786    4.752728    4.291300\n",
       "min      1.200000    1.000000    2.000000    1.000000\n",
       "25%     36.600000    9.500000   13.000000    8.000000\n",
       "50%     57.500000   14.650000   16.000000   11.000000\n",
       "75%     88.300000   24.350000   19.000000   14.000000\n",
       "max    207.000000   75.600000   30.000000   22.000000"
      ]
     },
     "execution_count": 25,
     "metadata": {},
     "output_type": "execute_result"
    }
   ],
   "source": [
    "df1.describe()"
   ]
  },
  {
   "cell_type": "markdown",
   "metadata": {},
   "source": [
    "## Plot the distributions of the variables in the dataset"
   ]
  },
  {
   "cell_type": "code",
   "execution_count": 26,
   "metadata": {},
   "outputs": [],
   "source": [
    "# lets select & plot the rain variable\n",
    "dfr = df1.iloc[:,0]"
   ]
  },
  {
   "cell_type": "code",
   "execution_count": 27,
   "metadata": {},
   "outputs": [
    {
     "name": "stderr",
     "output_type": "stream",
     "text": [
      "/anaconda3/lib/python3.6/site-packages/matplotlib/axes/_axes.py:6462: UserWarning: The 'normed' kwarg is deprecated, and has been replaced by the 'density' kwarg.\n",
      "  warnings.warn(\"The 'normed' kwarg is deprecated, and has been \"\n"
     ]
    },
    {
     "data": {
      "image/png": "[encoded data removed]",
      "text/plain": [
       "<Figure size 432x288 with 1 Axes>"
      ]
     },
     "metadata": {},
     "output_type": "display_data"
    }
   ],
   "source": [
    "# plot the distribution of 'rain'\n",
    "sns.distplot(dfr);"
   ]
  },
  {
   "cell_type": "markdown",
   "metadata": {},
   "source": [
    "Monthly rainfall values (mm) over 253 months are distributed to a Normal distribution with a long tail of higher values - ie. positive skew."
   ]
  },
  {
   "cell_type": "code",
   "execution_count": 28,
   "metadata": {},
   "outputs": [],
   "source": [
    "# lets look at greatest daily fall - select 'gdf':\n",
    "dfg = df1.iloc[:,1]"
   ]
  },
  {
   "cell_type": "code",
   "execution_count": 31,
   "metadata": {},
   "outputs": [],
   "source": [
    "# remove all NaN values (ref: https://stackoverflow.com/questions/13413590/how-to-drop-rows-of-pandas-dataframe-whose-value-in-certain-columns-is-nan)\n",
    "dfg = dfg[pd.notnull(df['gdf'])]"
   ]
  },
  {
   "cell_type": "code",
   "execution_count": 32,
   "metadata": {},
   "outputs": [
    {
     "name": "stderr",
     "output_type": "stream",
     "text": [
      "/anaconda3/lib/python3.6/site-packages/matplotlib/axes/_axes.py:6462: UserWarning: The 'normed' kwarg is deprecated, and has been replaced by the 'density' kwarg.\n",
      "  warnings.warn(\"The 'normed' kwarg is deprecated, and has been \"\n"
     ]
    },
    {
     "data": {
      "image/png": "[encoded data removed]",
      "text/plain": [
       "<Figure size 432x288 with 1 Axes>"
      ]
     },
     "metadata": {},
     "output_type": "display_data"
    }
   ],
   "source": [
    "#plot the distribution of 'gdf'\n",
    "sns.distplot(dfg);"
   ]
  },
  {
   "cell_type": "markdown",
   "metadata": {},
   "source": [
    "As with the 'rain' variable, values for 'Greatest Daily Fall (gdf) are distributed to a Normal distribution with a long tail of higher values - ie. positive skew."
   ]
  },
  {
   "cell_type": "code",
   "execution_count": 42,
   "metadata": {},
   "outputs": [],
   "source": [
    "# lets select & plot the 'rd' variable\n",
    "dfrd = df1.iloc[:,2]"
   ]
  },
  {
   "cell_type": "markdown",
   "metadata": {},
   "source": [
    "But the 'rd' column includes some NaN values (Not a Number), so we must purge these first."
   ]
  },
  {
   "cell_type": "code",
   "execution_count": 43,
   "metadata": {},
   "outputs": [],
   "source": [
    "# remove all NaN values (ref: https://stackoverflow.com/questions/13413590/how-to-drop-rows-of-pandas-dataframe-whose-value-in-certain-columns-is-nan)\n",
    "dfrd = dfrd[pd.notnull(df['rd'])]"
   ]
  },
  {
   "cell_type": "code",
   "execution_count": 44,
   "metadata": {},
   "outputs": [
    {
     "data": {
      "text/plain": [
       "year       int64\n",
       "month      int64\n",
       "rain     float64\n",
       "gdf      float64\n",
       "rd       float64\n",
       "wd       float64\n",
       "dtype: object"
      ]
     },
     "execution_count": 44,
     "metadata": {},
     "output_type": "execute_result"
    }
   ],
   "source": [
    "df.dtypes"
   ]
  },
  {
   "cell_type": "code",
   "execution_count": 45,
   "metadata": {},
   "outputs": [
    {
     "name": "stderr",
     "output_type": "stream",
     "text": [
      "/anaconda3/lib/python3.6/site-packages/matplotlib/axes/_axes.py:6462: UserWarning: The 'normed' kwarg is deprecated, and has been replaced by the 'density' kwarg.\n",
      "  warnings.warn(\"The 'normed' kwarg is deprecated, and has been \"\n"
     ]
    },
    {
     "data": {
      "image/png": "[encoded data removed]",
      "text/plain": [
       "<Figure size 432x288 with 1 Axes>"
      ]
     },
     "metadata": {},
     "output_type": "display_data"
    }
   ],
   "source": [
    "#plot the distribution of 'rd'\n",
    "sns.distplot(dfrd);"
   ]
  },
  {
   "cell_type": "markdown",
   "metadata": {},
   "source": [
    "So the values for 'Number of rain days (0.2mm or more)' are also distributed to a fairly Normal distribution with an extra bump at around +1 SD (values of 20.5)"
   ]
  },
  {
   "cell_type": "code",
   "execution_count": 46,
   "metadata": {},
   "outputs": [],
   "source": [
    "# select wet days (wd). Filter out any NaNs. \n",
    "dfw = df.iloc[:,5]"
   ]
  },
  {
   "cell_type": "code",
   "execution_count": 47,
   "metadata": {},
   "outputs": [
    {
     "data": {
      "text/plain": [
       "count    247.000000\n",
       "mean      10.846154\n",
       "std        4.291300\n",
       "min        1.000000\n",
       "25%        8.000000\n",
       "50%       11.000000\n",
       "75%       14.000000\n",
       "max       22.000000\n",
       "Name: wd, dtype: float64"
      ]
     },
     "execution_count": 47,
     "metadata": {},
     "output_type": "execute_result"
    }
   ],
   "source": [
    "#describe the 'wet days' data distribution\n",
    "dfw.describe()"
   ]
  },
  {
   "cell_type": "code",
   "execution_count": 48,
   "metadata": {},
   "outputs": [
    {
     "name": "stdout",
     "output_type": "stream",
     "text": [
      "10   NaN\n",
      "11   NaN\n",
      "23   NaN\n",
      "36   NaN\n",
      "47   NaN\n",
      "48   NaN\n",
      "Name: wd, dtype: float64\n"
     ]
    }
   ],
   "source": [
    "# For identifying NaN values use boolean indexing:\n",
    "print(dfw[dfw[:].isnull()])"
   ]
  },
  {
   "cell_type": "code",
   "execution_count": 49,
   "metadata": {},
   "outputs": [],
   "source": [
    "# remove all NaN values (ref: https://stackoverflow.com/questions/13413590/how-to-drop-rows-of-pandas-dataframe-whose-value-in-certain-columns-is-nan)\n",
    "dfw = dfw[pd.notnull(df['wd'])]"
   ]
  },
  {
   "cell_type": "code",
   "execution_count": 50,
   "metadata": {},
   "outputs": [
    {
     "name": "stderr",
     "output_type": "stream",
     "text": [
      "/anaconda3/lib/python3.6/site-packages/matplotlib/axes/_axes.py:6462: UserWarning: The 'normed' kwarg is deprecated, and has been replaced by the 'density' kwarg.\n",
      "  warnings.warn(\"The 'normed' kwarg is deprecated, and has been \"\n"
     ]
    },
    {
     "data": {
      "image/png": "[encoded data removed]",
      "text/plain": [
       "<Figure size 432x288 with 1 Axes>"
      ]
     },
     "metadata": {},
     "output_type": "display_data"
    }
   ],
   "source": [
    "#plot the distribution of 'wd'\n",
    "sns.distplot(dfw);"
   ]
  },
  {
   "cell_type": "markdown",
   "metadata": {},
   "source": [
    "Numbers of monthly wet days(>=1mm) 'wd' are distributed to an almost Normal distribution around a Mean of 10.85 days"
   ]
  },
  {
   "cell_type": "markdown",
   "metadata": {},
   "source": [
    "## Lets look at the topic of 'Skew' in these distributions "
   ]
  },
  {
   "cell_type": "markdown",
   "metadata": {},
   "source": [
    "If one tail is longer than another, the distribution is skewed. These distributions are sometimes called asymmetric. Symmetry means that one half of the distribution is a mirror image of the other half. For example, the normal distribution is a symmetric distribution with no skew. (https://www.statisticshowto.datasciencecentral.com/probability-and-statistics/skewed-distribution/#norm) \n",
    "\n",
    "In a normal distribution the mean, median and mode all have the same value. A right-skewed distribution has a long right tail. Right-skewed distributions are also called positive-skew distributions. That’s because there is a long tail in the positive direction on the number line. The mode (most frequently found value) is at the peak, but the median (mid-point of all the values) and the mean (average of all the values) are both to the right of the peak (ie. have higher values than the mode).\n",
    "\n"
   ]
  },
  {
   "cell_type": "code",
   "execution_count": 65,
   "metadata": {},
   "outputs": [
    {
     "name": "stdout",
     "output_type": "stream",
     "text": [
      "57.5\n"
     ]
    }
   ],
   "source": [
    "# to test a distribution for 'skewness', find the median in 'rain'\n",
    "medr = np.median(dfr)\n",
    "print (medr)\n",
    "# so the median is :"
   ]
  },
  {
   "cell_type": "markdown",
   "metadata": {},
   "source": [
    "From the rain plot we see the mode (peak) is at 50. We've calculated the median is 57.5 and the descriptive statistics give us the mean as 66.4. So the rain distribution has a positive skew. It's not a normal distribution.\n"
   ]
  },
  {
   "cell_type": "markdown",
   "metadata": {},
   "source": [
    "# REPEAT the exercise for the other three"
   ]
  },
  {
   "cell_type": "code",
   "execution_count": null,
   "metadata": {},
   "outputs": [],
   "source": []
  },
  {
   "cell_type": "code",
   "execution_count": null,
   "metadata": {},
   "outputs": [],
   "source": []
  },
  {
   "cell_type": "code",
   "execution_count": null,
   "metadata": {},
   "outputs": [],
   "source": []
  },
  {
   "cell_type": "markdown",
   "metadata": {},
   "source": [
    "## Calculate the relationships between variables in the dataset"
   ]
  },
  {
   "cell_type": "markdown",
   "metadata": {},
   "source": [
    "The Distribution plots suggest a positive correlation between two pairs of variables - namely rain & gdf, and rd & wd. Lets draw scatterplots to get a feel of the relationship (if any) between the variables as suggested by the data. \n",
    "\n",
    "But first, lets remind ourselves of the descriptive statistics for all four variables:"
   ]
  },
  {
   "cell_type": "code",
   "execution_count": null,
   "metadata": {},
   "outputs": [],
   "source": [
    "dfr.describe()"
   ]
  },
  {
   "cell_type": "code",
   "execution_count": null,
   "metadata": {},
   "outputs": [],
   "source": [
    "df.dtypes"
   ]
  },
  {
   "cell_type": "markdown",
   "metadata": {},
   "source": [
    "### Boxplots"
   ]
  },
  {
   "cell_type": "markdown",
   "metadata": {},
   "source": [
    "Lets first make boxplots of the 4 variables, displaying the distribution of data based on a five number summary (“minimum”, first quartile (Q1), median, third quartile (Q3), and “maximum”). "
   ]
  },
  {
   "cell_type": "code",
   "execution_count": 51,
   "metadata": {},
   "outputs": [
    {
     "data": {
      "text/plain": [
       "<matplotlib.axes._subplots.AxesSubplot at 0x1a1d0b6cf8>"
      ]
     },
     "execution_count": 51,
     "metadata": {},
     "output_type": "execute_result"
    },
    {
     "data": {
      "image/png": "[encoded data removed]",
      "text/plain": [
       "<Figure size 432x288 with 1 Axes>"
      ]
     },
     "metadata": {},
     "output_type": "display_data"
    }
   ],
   "source": [
    "\tdf1.plot.box()"
   ]
  },
  {
   "cell_type": "markdown",
   "metadata": {},
   "source": [
    "### Scatterplots"
   ]
  },
  {
   "cell_type": "code",
   "execution_count": 52,
   "metadata": {},
   "outputs": [
    {
     "data": {
      "text/plain": [
       "<matplotlib.axes._subplots.AxesSubplot at 0x1a1d032208>"
      ]
     },
     "execution_count": 52,
     "metadata": {},
     "output_type": "execute_result"
    },
    {
     "data": {
      "image/png": "[encoded data removed]",
      "text/plain": [
       "<Figure size 432x288 with 1 Axes>"
      ]
     },
     "metadata": {},
     "output_type": "display_data"
    }
   ],
   "source": [
    "# based on their similar distributions, lets look at the relationship between 'rain' and 'gdf'\n",
    "df.plot(kind='scatter',x='rain',y='gdf',color='blue')"
   ]
  },
  {
   "cell_type": "markdown",
   "metadata": {},
   "source": [
    "The scatter plot suggests a positive correlation between monthly rainfall values (mm) and greatest daily fall values (mm) in each month. This may seem unsurprising, but there are countries (Spain perhaps?) where it can rain very heavily for one or two days, and hardly at all for the rest of the month - so this correlation is not an obvious one, except in countries like Ireland where it rains pretty consistently in certain months of the year, during which the heaviest one-day falls also occur. "
   ]
  },
  {
   "cell_type": "code",
   "execution_count": 53,
   "metadata": {},
   "outputs": [
    {
     "data": {
      "text/plain": [
       "<matplotlib.axes._subplots.AxesSubplot at 0x1a1d3f5cc0>"
      ]
     },
     "execution_count": 53,
     "metadata": {},
     "output_type": "execute_result"
    },
    {
     "data": {
      "image/png": "[encoded data removed]",
      "text/plain": [
       "<Figure size 432x288 with 1 Axes>"
      ]
     },
     "metadata": {},
     "output_type": "display_data"
    }
   ],
   "source": [
    "df.plot(kind='scatter',x='rd',y='wd',color='red')"
   ]
  },
  {
   "cell_type": "markdown",
   "metadata": {},
   "source": [
    "This scatter plot suggests a linear relationship between two variables, with a high correlation between the number of days each month in which rainfall exceeded 0.2mm (rd), and the number of days each month in which rainfall exceeded 1.0mm (wd). This is hardly a surprising discovery, since any day when >1mm of rain fell is also a day when >0.2mm of rain fell (verified by checking sum of rd + wd : in many months it exceeded 31, with some values as high as 52)."
   ]
  },
  {
   "cell_type": "markdown",
   "metadata": {},
   "source": [
    "### Linear Regression models using Seaborn"
   ]
  },
  {
   "cell_type": "code",
   "execution_count": 54,
   "metadata": {},
   "outputs": [
    {
     "data": {
      "image/png": "[encoded data removed]",
      "text/plain": [
       "<Figure size 432x288 with 1 Axes>"
      ]
     },
     "metadata": {},
     "output_type": "display_data"
    }
   ],
   "source": [
    "sns.regplot(x=\"rain\", y=\"gdf\", data=df);"
   ]
  },
  {
   "cell_type": "markdown",
   "metadata": {},
   "source": [
    "sns.regplot plots the regression line and a 95% confidence interval for that regression. As the shaded bands widen, the range of possible lines of regression at 95% confidence intervals \n",
    "also widen.\n"
   ]
  },
  {
   "cell_type": "code",
   "execution_count": 55,
   "metadata": {},
   "outputs": [
    {
     "data": {
      "image/png": "[encoded data removed]",
      "text/plain": [
       "<Figure size 432x288 with 1 Axes>"
      ]
     },
     "metadata": {},
     "output_type": "display_data"
    }
   ],
   "source": [
    "sns.regplot(x=\"wd\", y=\"rd\", data=df);"
   ]
  },
  {
   "cell_type": "markdown",
   "metadata": {},
   "source": [
    "So this regression line, also drawn with sns.regplot, shows a tighter relationship between the two variables over the whole range of data values than the previous plot."
   ]
  },
  {
   "cell_type": "markdown",
   "metadata": {},
   "source": [
    "### Calculate the Coefficient of correlation for both pairs of variables"
   ]
  },
  {
   "cell_type": "markdown",
   "metadata": {},
   "source": [
    "Now lets look at the coefficient of correlation between each pair of variables (rain & greatest daily fall). In order to calculate the correlations for each dataset I must restate each of values as a distinct array which can be called by the np.corrcoef(x, y) command:"
   ]
  },
  {
   "cell_type": "code",
   "execution_count": 56,
   "metadata": {},
   "outputs": [
    {
     "data": {
      "text/plain": [
       "array([ 91.8,  11.5,  70.7, 187.4,  84.4, 109.4,   8.4,  61.3, 136.5,\n",
       "        27.7, 125.1,  34.2,  33.8,  89.4,  73.5,  87.1,  74.8,  61.8,\n",
       "        22.4,  19.9,  67.7,  48.1,  58.2,  19.7, 119.6, 139.8,  42.9,\n",
       "        41.9,  61. ,  26.1,  39.6,  12.8,  94.3,  33.9,  29. ,  35.1,\n",
       "        46. , 124.9,  62.1, 160.9, 141.4,  55.1,  49. ,  96. ,  52.7,\n",
       "        65.5,  28.7,  42.6,  76.9,  27.6,  96.7,  29.8,  22. ,  61.5,\n",
       "        89.5,  37.3,  61.1, 127.8,  49.4,  72.4,  54.8,  15.6, 167.5,\n",
       "       192.8, 129.1,  42.9,  43.5,  28.1,  48.3,  88.1,  91.6,  36.6,\n",
       "        20.5,  36.8, 102.5,  68.6,  49.4,  78.8,  14.3,  67.9,  45.2,\n",
       "        36.3,  61.3,  54.9, 109.4,  35.1, 124.3,  47.6,  40.4,  59.7,\n",
       "        30.5,  67.5,  58.1,  61.7,  16.6,  92.2,  26.3,  50.6, 133.2,\n",
       "        56. ,  71. ,  28. ,  33.6,  89.4,  30.2, 101.9,  22.6,  14.9,\n",
       "        72.9,  83.9,  85.4,  91.8, 105.7,  62.8,  64.7,  54.7,   4.2,\n",
       "        26. , 124.5, 107.1, 112.6,  24.4,  15.2,  45.3,  41.8,  98.1,\n",
       "        21.4, 123.5,  33.2,  20.9,  71.6, 126. , 162.1,  88.3,  82.4,\n",
       "        48.3,  35.6,  90.6,  61.3,  20.7,  75.6,  75.1,  49.3, 113.8,\n",
       "        52.9,  30.9,  95.7, 176.6,  63.5,  95.2,  42.4,  57.6,  28.1,\n",
       "        73.4,  48.5,  90.8,  42.1, 128.9,  45.7, 145. ,  67.2,  28.5,\n",
       "        76.4,  14.1,  10.8,  50.2,  71.1,  50.4,  59.6,  56. , 170. ,\n",
       "        81.1,  39.1,  71.5,  18.3,  16.5,  67. ,  69.1, 179.5, 112.2,\n",
       "        85.2,  80.5,  79.8,  80.6,  55. , 130.3,  52.1, 141. ,  47.3,\n",
       "        54.6,  30.3,  39.8,  25.6,  51.4, 129.7,  30.7,  92.5, 119.2,\n",
       "       132.2,  49.2,  40.6,  80.2,  50.2,  57.3, 169. ,   2.1, 142.9,\n",
       "       170.8,  46.8,  48.2,  25.9,  50.5,  31.6,  89.8,  12.7,  97.4,\n",
       "        70.6,  58.2,  53.1,  78. , 207. , 140.9,  53.3,  29.7,  55.6,\n",
       "        38.7,  57.5,  28. ,  55.5,  68.6,  38.6,  31. ,  55. ,  19.3,\n",
       "        66.5,  57.3,   9.9,  61.5,  84.3,  38.4,  53.1,  91.5,  55.1,\n",
       "        72.3,  57.9,  91.8,  29.6, 113.1,  78.4,  20.1,   1.2,  43.5,\n",
       "        27.8])"
      ]
     },
     "execution_count": 56,
     "metadata": {},
     "output_type": "execute_result"
    }
   ],
   "source": [
    "#numpy array datasets\n",
    "np.array(df['rain'].tolist())"
   ]
  },
  {
   "cell_type": "code",
   "execution_count": 58,
   "metadata": {},
   "outputs": [
    {
     "data": {
      "text/plain": [
       "array([17.4,  2.9, 20.7, 54.6, 21.7, 16.5,  2.9, 10.3, 39. , 12.5, 29.1,\n",
       "        nan, 13.2, 21.6,  8. , 23. , 28.7,  9.3,  3.9,  4.8, 15.6, 14.5,\n",
       "       22.5,  nan, 41. , 27.8,  9.3, 11.1, 12.3,  9.5,  7.6,  7.5, 13.3,\n",
       "        9.4,  7.4,  nan,  nan, 17.5,  7.4, 55.4, 33.5, 16.3, 12.2, 25.6,\n",
       "       12.3, 24.5,  8.5, 15.3,  nan,  4.6, 42.5,  7.9, 12.3,  9.5,  nan,\n",
       "        9.5, 17.9, 44.2, 17.3, 15.3, 12.9,  9.7, 31.2, 39.8, 22.8,  7.7,\n",
       "       12. ,  8.3, 15.6, 22.8, 25. ,  9.8,  9.1,  8.2, 30.8, 18.7, 13. ,\n",
       "       18.7,  3.7, 27.2,  7.4, 10.3, 24.3,  nan, 35.9, 18.5, 24.5, 18.3,\n",
       "       13. , 13.2,  7.4, 26.4, 10.9, 11.4,  5.5, 37.8,  nan, 14.7, 29.1,\n",
       "       18.7, 21.7,  9.1, 10. , 12.2,  9.3, 29.1, 10.3,  6. ,  nan, 13.1,\n",
       "       21. , 28.1, 24.8, 13.7, 13.5, 20. ,  2.6,  7.7, 24.2, 17.4, 36.6,\n",
       "        5.5,  6.3, 11.2,  9.5, 13.9,  6. , 32.7,  8. ,  5. , 19. , 34. ,\n",
       "       45. , 35.5, 20.3, 10.4, 11.7, 23.1, 31.7,  9. , 13.3, 14.6, 22.5,\n",
       "       31. , 11. , 17.9, 27.4, 21.2, 18. , 35.8, 10.5, 13.9,  7.7, 30.7,\n",
       "       26.6, 35.6,  7.8, 32.6, 22.6, 26. , 13.2, 10.9, 16.8,  5.9,  2.5,\n",
       "       10.9, 14. , 14.7, 19.5, 20.5, 75.6, 14.2,  5.5, 32. ,  3.6,  6.6,\n",
       "       16. , 19.2, 45.7, 14.5, 16. , 48.6, 19.3, 40.1,  9.7, 41.5, 15. ,\n",
       "       42.6, 15.6, 11.2,  7.7, 10.8,  8. , 14.1, 26.3, 11.4, 17.5, 14.1,\n",
       "       27.5,  9.4, 11. , 14. , 13.5, 15.1, 54.3,  1.5, 45. , 40.5, 18.9,\n",
       "        8.4,  5.5, 10.5,  8.3, 30.7,  4.9, 21.7, 26.9, 32.2, 15.4,  9.4,\n",
       "       34.7, 32.6, 13.5,  5.7, 29.7,  7.3,  8.5,  4. , 26.6, 20.4, 15.8,\n",
       "        8.4, 13.2, 10.5, 12.7, 14.9,  4. , 32. , 18. , 11.1, 17.5, 19. ,\n",
       "       14.9, 29.8, 16.2, 18. ,  7.4, 36. , 12.1,  6. ,  1. , 12.3, 11.4])"
      ]
     },
     "execution_count": 58,
     "metadata": {},
     "output_type": "execute_result"
    }
   ],
   "source": [
    "np.array(df['gdf'].tolist())"
   ]
  },
  {
   "cell_type": "code",
   "execution_count": 59,
   "metadata": {},
   "outputs": [],
   "source": [
    "rain = np.array([ 91.8,  11.5,  70.7, 187.4,  84.4, 109.4,   8.4,  61.3, 136.5,\n",
    "        27.7, 125.1,  33.8,  89.4,  73.5,  87.1,  74.8,  61.8,  22.4,\n",
    "        19.9,  67.7,  48.1,  58.2, 119.6, 139.8,  42.9,  41.9,  61. ,\n",
    "        26.1,  39.6,  12.8,  94.3,  33.9,  29. , 124.9,  62.1, 160.9,\n",
    "       141.4,  55.1,  49. ,  96. ,  52.7,  65.5,  28.7,  42.6,  27.6,\n",
    "        96.7,  29.8,  22. ,  61.5,  37.3,  61.1, 127.8,  49.4,  72.4,\n",
    "        54.8,  15.6, 167.5, 192.8, 129.1,  42.9,  43.5,  28.1,  48.3,\n",
    "        88.1,  91.6,  36.6,  20.5,  36.8, 102.5,  68.6,  49.4,  78.8,\n",
    "        14.3,  67.9,  45.2,  36.3,  61.3, 109.4,  35.1, 124.3,  47.6,\n",
    "        40.4,  59.7,  30.5,  67.5,  58.1,  61.7,  16.6,  92.2,  50.6,\n",
    "       133.2,  56. ,  71. ,  28. ,  33.6,  89.4,  30.2, 101.9,  22.6,\n",
    "        14.9,  83.9,  85.4,  91.8, 105.7,  62.8,  64.7,  54.7,   4.2,\n",
    "        26. , 124.5, 107.1, 112.6,  24.4,  15.2,  45.3,  41.8,  98.1,\n",
    "        21.4, 123.5,  33.2,  20.9,  71.6, 126. , 162.1,  88.3,  82.4,\n",
    "        48.3,  35.6,  90.6,  61.3,  20.7,  75.6,  75.1,  49.3, 113.8,\n",
    "        52.9,  30.9,  95.7, 176.6,  63.5,  95.2,  42.4,  57.6,  28.1,\n",
    "        73.4,  48.5,  90.8,  42.1, 128.9,  45.7, 145. ,  67.2,  28.5,\n",
    "        76.4,  14.1,  10.8,  50.2,  71.1,  50.4,  59.6,  56. , 170. ,\n",
    "        81.1,  39.1,  71.5,  18.3,  16.5,  67. ,  69.1, 179.5, 112.2,\n",
    "        85.2,  80.5,  79.8,  80.6,  55. , 130.3,  52.1, 141. ,  47.3,\n",
    "        54.6,  30.3,  39.8,  25.6,  51.4, 129.7,  30.7,  92.5, 119.2,\n",
    "       132.2,  49.2,  40.6,  80.2,  50.2,  57.3, 169. ,   2.1, 142.9,\n",
    "       170.8,  46.8,  48.2,  25.9,  50.5,  31.6,  89.8,  12.7,  97.4,\n",
    "        70.6,  58.2,  53.1,  78. , 207. , 140.9,  53.3,  29.7,  55.6,\n",
    "        38.7,  57.5,  28. ,  55.5,  68.6,  38.6,  31. ,  55. ,  19.3,\n",
    "        66.5,  57.3,   9.9,  61.5,  84.3,  38.4,  53.1,  91.5,  55.1,\n",
    "        72.3,  57.9,  91.8,  29.6, 113.1,  78.4,  20.1,   1.2,  43.5,\n",
    "        27.8])\n",
    "\n",
    "gdf = np.array([17,  2, 20, 54, 21, 16,  2, 10, 39, 12, 29, 13, 21,  8, 23, 28,  9,\n",
    "        3,  4, 15, 14, 22, 41, 27,  9, 11, 12,  9,  7,  7, 13,  9,  7, 17,\n",
    "        7, 55, 33, 16, 12, 25, 12, 24,  8, 15,  4, 42,  7, 12,  9,  9, 17,\n",
    "       44, 17, 15, 12,  9, 31, 39, 22,  7, 12,  8, 15, 22, 25,  9,  9,  8,\n",
    "       30, 18, 13, 18,  3, 27,  7, 10, 24, 35, 18, 24, 18, 13, 13,  7, 26,\n",
    "       10, 11,  5, 37, 14, 29, 18, 21,  9, 10, 12,  9, 29, 10,  6, 13, 21,\n",
    "       28, 24, 13, 13, 20,  2,  7, 24, 17, 36,  5,  6, 11,  9, 13,  6, 32,\n",
    "        8,  5, 19, 34, 45, 35, 20, 10, 11, 23, 31,  9, 13, 14, 22, 31, 11,\n",
    "       17, 27, 21, 18, 35, 10, 13,  7, 30, 26, 35,  7, 32, 22, 26, 13, 10,\n",
    "       16,  5,  2, 10, 14, 14, 19, 20, 75, 14,  5, 32,  3,  6, 16, 19, 45,\n",
    "       14, 16, 48, 19, 40,  9, 41, 15, 42, 15, 11,  7, 10,  8, 14, 26, 11,\n",
    "       17, 14, 27,  9, 11, 14, 13, 15, 54,  1, 45, 40, 18,  8,  5, 10,  8,\n",
    "       30,  4, 21, 26, 32, 15,  9, 34, 32, 13,  5, 29,  7,  8,  4, 26, 20,\n",
    "       15,  8, 13, 10, 12, 14,  4, 32, 18, 11, 17, 19, 14, 29, 16, 18,  7,\n",
    "       36, 12,  6,  1, 12, 11])"
   ]
  },
  {
   "cell_type": "code",
   "execution_count": 60,
   "metadata": {},
   "outputs": [
    {
     "data": {
      "text/plain": [
       "array([[1.        , 0.80993617],\n",
       "       [0.80993617, 1.        ]])"
      ]
     },
     "execution_count": 60,
     "metadata": {},
     "output_type": "execute_result"
    }
   ],
   "source": [
    "# find the correlation between 'rain' and 'gdf':\n",
    "corr1 = np.corrcoef(rain,gdf)\n",
    "corr1"
   ]
  },
  {
   "cell_type": "code",
   "execution_count": 61,
   "metadata": {},
   "outputs": [
    {
     "data": {
      "text/plain": [
       "array([16.,  4., 10., 17., 12., 15.,  4., 11., 16.,  5., nan, nan,  7.,\n",
       "       17., 15., 14., 17., 12.,  6.,  5., 14., 10., 11., nan,  9., 13.,\n",
       "        7.,  6., 12.,  6., 13.,  3., 16., 11.,  9.,  7., nan, 16., 17.,\n",
       "       11., 17.,  8., 10., 12., 11.,  9.,  6., nan, nan,  7., 12., 10.,\n",
       "        4., 13., 16.,  5., 12., 15., 11., 12., 12.,  3., 15., 21., 18.,\n",
       "        7.,  8.,  8.,  9., 21., 10., 10.,  5.,  7.,  9.,  9., 12., 16.,\n",
       "        6., 14., 14.,  6., 11., 10., 13.,  8., 16.,  6., 10., 13.,  9.,\n",
       "        8., 14., 13.,  5.,  9.,  8., 10., 14., 11.,  9.,  8.,  7., 18.,\n",
       "        9., 13.,  4.,  3., 12., 14., 10., 12., 16., 12., 13., 10.,  1.,\n",
       "        8., 17., 19., 12.,  7.,  4.,  8., 11., 17.,  6., 12., 11.,  7.,\n",
       "       13., 14., 18., 13., 13.,  8.,  7., 16.,  5.,  5., 14., 13.,  8.,\n",
       "       20., 18.,  5., 17., 22., 14., 12., 11.,  8.,  9., 11.,  6., 12.,\n",
       "       10., 15.,  9., 19., 11.,  8., 16.,  4.,  4., 11., 12., 10., 12.,\n",
       "       12.,  9., 12., 14.,  8.,  7.,  5., 14., 13., 19., 18., 17.,  6.,\n",
       "       13.,  7., 13., 17., 10., 12., 10., 11.,  7.,  6.,  7., 10., 14.,\n",
       "        7., 12., 22., 16., 12.,  9., 16.,  9., 10., 12.,  1., 11., 16.,\n",
       "        7., 14.,  7.,  9.,  9., 12.,  3., 14., 11.,  6., 11., 18., 22.,\n",
       "       14., 11.,  8.,  9.,  9., 14., 11.,  8., 14.,  4.,  7., 11.,  5.,\n",
       "       12., 12.,  3.,  9., 12.,  7.,  9., 13., 10., 10., 10., 17., 11.,\n",
       "       18., 16.,  5.,  1.,  7., 10.])"
      ]
     },
     "execution_count": 61,
     "metadata": {},
     "output_type": "execute_result"
    }
   ],
   "source": [
    "#numpy array datasets\n",
    "np.array(df['wd'].tolist())"
   ]
  },
  {
   "cell_type": "code",
   "execution_count": 62,
   "metadata": {},
   "outputs": [
    {
     "data": {
      "text/plain": [
       "array([18., 12., 14., 22., 14., 19.,  8., 15., 26., 11., nan, nan,  9.,\n",
       "       18., 23., 19., 23., 22., 15., 13., 19., 14., 15., nan, 15., 20.,\n",
       "       13., 16., 20., 14., 20.,  9., 20., 16., 16.,  9., nan, 22., 22.,\n",
       "       21., 24., 13., 16., 21., 19., 14., 11., nan, nan, 14., 20., 14.,\n",
       "       12., 16., 22., 12., 17., 20., 16., 15., 15.,  6., 21., 25., 21.,\n",
       "       15., 11., 11., 12., 27., 14., 17.,  6., 14., 12., 13., 18., 21.,\n",
       "        7., 17., 18., 10., 14., 18., 17., 13., 21., 11., 18., 21., 13.,\n",
       "       15., 21., 19.,  8., 15., 11., 14., 20., 16., 13., 11., 13., 24.,\n",
       "       14., 20.,  9.,  9., 20., 18., 15., 17., 19., 21., 17., 16.,  3.,\n",
       "       14., 21., 23., 16., 13.,  9., 12., 17., 19.,  8., 24., 19., 10.,\n",
       "       19., 16., 21., 16., 18., 17.,  9., 18., 11., 12., 18., 21., 10.,\n",
       "       23., 23.,  8., 18., 24., 21., 16., 18., 10.,  9., 16.,  7., 17.,\n",
       "       17., 19., 13., 24., 16., 14., 19.,  9., 11., 20., 14., 14., 18.,\n",
       "       14., 13., 15., 18., 16., 15.,  7., 21., 16., 22., 20., 23., 16.,\n",
       "       19., 14., 19., 20., 14., 17., 15., 15., 12.,  9., 11., 13., 22.,\n",
       "       12., 16., 25., 22., 15., 13., 22., 10., 14., 22.,  2., 16., 17.,\n",
       "       12., 20., 14., 14., 10., 19.,  6., 20., 14.,  9., 12., 22., 30.,\n",
       "       19., 17., 14., 13., 13., 16., 17., 15., 16.,  8., 13., 15., 13.,\n",
       "       16., 16.,  7., 16., 18., 12., 15., 23., 15., 15., 15., 21., 15.,\n",
       "       22., 21., 10.,  2.,  9., 14.])"
      ]
     },
     "execution_count": 62,
     "metadata": {},
     "output_type": "execute_result"
    }
   ],
   "source": [
    "#numpy array datasets\n",
    "np.array(df['rd'].tolist())"
   ]
  },
  {
   "cell_type": "code",
   "execution_count": 63,
   "metadata": {},
   "outputs": [],
   "source": [
    "wd = np.array([16.,  4., 10., 17., 12., 15.,  4., 11., 16.,  5.,  7., 17.,\n",
    "       15., 14., 17., 12.,  6.,  5., 14., 10., 11.,  9., 13.,  7.,  6.,\n",
    "       12.,  6., 13.,  3., 16., 11.,  9., 16., 17., 11., 17.,  8., 10.,\n",
    "       12., 11.,  9.,  6.,  7., 12., 10.,  4., 13.,  5., 12., 15.,\n",
    "       11., 12., 12.,  3., 15., 21., 18.,  7.,  8.,  8.,  9., 21., 10.,\n",
    "       10.,  5.,  7.,  9.,  9., 12., 16.,  6., 14., 14.,  6., 11., 13.,\n",
    "        8., 16.,  6., 10., 13.,  9.,  8., 14., 13.,  5.,  9., 10., 14.,\n",
    "       11.,  9.,  8.,  7., 18.,  9., 13.,  4.,  3., 14., 10., 12., 16.,\n",
    "       12., 13., 10.,  1.,  8., 17., 19., 12.,  7.,  4.,  8., 11., 17.,\n",
    "        6., 12., 11.,  7., 13., 14., 18., 13., 13.,  8.,  7., 16.,  5.,\n",
    "        5., 14., 13.,  8., 20., 18.,  5., 17., 22., 14., 12., 11.,  8.,\n",
    "        9., 11.,  6., 12., 10., 15.,  9., 19., 11.,  8., 16.,  4.,  4.,\n",
    "       11., 12., 10., 12., 12.,  9., 12., 14.,  8.,  7.,  5., 14., 13.,\n",
    "       19., 18., 17.,  6., 13.,  7., 13., 17., 10., 12., 10., 11.,  7.,\n",
    "        6.,  7., 10., 14.,  7., 12., 22., 16., 12.,  9., 16.,  9., 10.,\n",
    "       12.,  1., 11., 16.,  7., 14.,  7.,  9.,  9., 12.,  3., 14., 11.,\n",
    "        6., 11., 18., 22., 14., 11.,  8.,  9.,  9., 14., 11.,  8., 14.,\n",
    "        4.,  7., 11.,  5., 12., 12.,  3.,  9., 12.,  7.,  9., 13., 10.,\n",
    "       10., 10., 17., 11., 18., 16.,  5.,  1.,  7., 10.])\n",
    "\n",
    "rd = np.array([18., 12., 14., 22., 14., 19.,  8., 15., 26., 11., 9., 18.,\n",
    "       23., 19., 23., 22., 15., 13., 19., 14., 15., 15., 20., 13., 16.,\n",
    "       20., 14., 20.,  9., 20., 16., 16., 22., 22., 21., 24., 13., 16.,\n",
    "       21., 19., 14., 11., 14., 20., 14., 12., 16., 12., 17., 20.,\n",
    "       16., 15., 15.,  6., 21., 25., 21., 15., 11., 11., 12., 27., 14.,\n",
    "       17.,  6., 14., 12., 13., 18., 21.,  7., 17., 18., 10., 14., 17.,\n",
    "       13., 21., 11., 18., 21., 13., 15., 21., 19.,  8., 15., 14., 20.,\n",
    "       16., 13., 11., 13., 24., 14., 20.,  9.,  9., 18., 15., 17., 19.,\n",
    "       21., 17., 16.,  3., 14., 21., 23., 16., 13.,  9., 12., 17., 19.,\n",
    "        8., 24., 19., 10., 19., 16., 21., 16., 18., 17.,  9., 18., 11.,\n",
    "       12., 18., 21., 10., 23., 23.,  8., 18., 24., 21., 16., 18., 10.,\n",
    "        9., 16.,  7., 17., 17., 19., 13., 24., 16., 14., 19.,  9., 11.,\n",
    "       20., 14., 14., 18., 14., 13., 15., 18., 16., 15.,  7., 21., 16.,\n",
    "       22., 20., 23., 16., 19., 14., 19., 20., 14., 17., 15., 15., 12.,\n",
    "        9., 11., 13., 22., 12., 16., 25., 22., 15., 13., 22., 10., 14.,\n",
    "       22.,  2., 16., 17., 12., 20., 14., 14., 10., 19.,  6., 20., 14.,\n",
    "        9., 12., 22., 30., 19., 17., 14., 13., 13., 16., 17., 15., 16.,\n",
    "        8., 13., 15., 13., 16., 16.,  7., 16., 18., 12., 15., 23., 15.,\n",
    "       15., 15., 21., 15., 22., 21., 10.,  2.,  9., 14.])"
   ]
  },
  {
   "cell_type": "code",
   "execution_count": 64,
   "metadata": {},
   "outputs": [
    {
     "data": {
      "text/plain": [
       "array([[1.        , 0.88964638],\n",
       "       [0.88964638, 1.        ]])"
      ]
     },
     "execution_count": 64,
     "metadata": {},
     "output_type": "execute_result"
    }
   ],
   "source": [
    "# find the correlation between 'wd' and 'rd':\n",
    "corr2 = np.corrcoef(wd,rd)\n",
    "corr2"
   ]
  },
  {
   "cell_type": "markdown",
   "metadata": {},
   "source": [
    "As expected from the above plots, the coefficient of correlation between 'rain' and 'gdf' (at 0.8099) is strongly positive, but not as positive as that for 'wd' and 'rd' (at 0.8896) - rounded off, approximately 80% versus 90% correlation."
   ]
  },
  {
   "cell_type": "markdown",
   "metadata": {},
   "source": [
    "## Synthesise datasets matching closely to these properties [NOT LOOKING RIGHT]"
   ]
  },
  {
   "cell_type": "code",
   "execution_count": null,
   "metadata": {},
   "outputs": [],
   "source": [
    "# Monthly Rainfall (rain) looks like a Poisson distribution.\n",
    "# generate a random sample of 250 values using a poision distribution with lamda of 66\n",
    "srain = np.random.poisson(lam=(66), size=(250))\n",
    "plt.xlabel ('monthly rainfall (mm)')\n",
    "plt.ylabel ('instances')\n",
    "plt.hist(srain)\n",
    "plt.show()"
   ]
  },
  {
   "cell_type": "code",
   "execution_count": null,
   "metadata": {},
   "outputs": [],
   "source": [
    "# convert the data array to a dataframe:\n",
    "srain = pd.DataFrame(np.array(srain))\n",
    "srain.describe()"
   ]
  },
  {
   "cell_type": "code",
   "execution_count": null,
   "metadata": {},
   "outputs": [],
   "source": [
    "# to test distribution for 'skewness', find the median \n",
    "srain = np.median(srain)\n",
    "print (srain)\n",
    "# so the median is :"
   ]
  },
  {
   "cell_type": "code",
   "execution_count": null,
   "metadata": {},
   "outputs": [],
   "source": [
    "sns.distplot(srain);"
   ]
  },
  {
   "cell_type": "markdown",
   "metadata": {},
   "source": [
    "CONCLUSION: \n",
    "While this Poisson Distribution can be manipulated by the inputs to produce a mean value almost identical to the original real data mean, no amount of manipulation has delivered authentic figures for the remainder of the descriptive statistics. In addition, the median & mean identical, so there's zero skew in the distribution (the real data shows significant positive skew). This is not a good fit as a simulation."
   ]
  },
  {
   "cell_type": "markdown",
   "metadata": {},
   "source": [
    "Lets try simulating rain data using the normal distribtion."
   ]
  },
  {
   "cell_type": "code",
   "execution_count": null,
   "metadata": {},
   "outputs": [],
   "source": [
    "np.random.seed(55219)"
   ]
  },
  {
   "cell_type": "code",
   "execution_count": null,
   "metadata": {},
   "outputs": [],
   "source": [
    "rain = np.random.normal(66.385375, 40.455267, 500).round(1) # (mu, sigma, size), Float 1\n",
    "# using the mean & standard deviation of the actual data in the original 'real world' sample."
   ]
  },
  {
   "cell_type": "code",
   "execution_count": null,
   "metadata": {},
   "outputs": [],
   "source": [
    "# convert the data array to a dataframe:\n",
    "rain = pd.DataFrame(np.array(rain))\n",
    "rain.describe()"
   ]
  },
  {
   "cell_type": "code",
   "execution_count": null,
   "metadata": {},
   "outputs": [],
   "source": [
    "#plot the Normal probability distribution for the synthetic 'rain' values\n",
    "sns.distplot(rain);"
   ]
  },
  {
   "cell_type": "markdown",
   "metadata": {},
   "source": [
    "CONCLUSION:  This simulation produces negative values. One cannot have negative amounts of rain. Lets explore the Binomial Distribution, as it guarantees positive integers:"
   ]
  },
  {
   "cell_type": "code",
   "execution_count": null,
   "metadata": {},
   "outputs": [],
   "source": []
  },
  {
   "cell_type": "code",
   "execution_count": null,
   "metadata": {},
   "outputs": [],
   "source": []
  },
  {
   "cell_type": "code",
   "execution_count": null,
   "metadata": {},
   "outputs": [],
   "source": []
  },
  {
   "cell_type": "code",
   "execution_count": null,
   "metadata": {},
   "outputs": [],
   "source": []
  },
  {
   "cell_type": "code",
   "execution_count": null,
   "metadata": {
    "scrolled": true
   },
   "outputs": [],
   "source": [
    "# wd variable looks like a normal distribution\n",
    "wd = np.random.normal(0,4.3,1000)\n",
    "sns.distplot(wd);"
   ]
  },
  {
   "cell_type": "markdown",
   "metadata": {},
   "source": [
    "## Synthesise a dataset for rain days 'rd'"
   ]
  },
  {
   "cell_type": "code",
   "execution_count": null,
   "metadata": {},
   "outputs": [],
   "source": [
    "# from Ian's Statistical Bias video\n",
    "np.set_printoptions(formatter={'float': lambda x: \"{0:6.3f}\".format(x)})\n",
    "sampsize = 1\n",
    "nosamps = 250\n",
    "samp = np.random.standard_normal((nosamps, sampsize))\n",
    "print(samp)"
   ]
  },
  {
   "cell_type": "code",
   "execution_count": null,
   "metadata": {},
   "outputs": [],
   "source": [
    "# convert the data array to a dataframe:\n",
    "df = pd.DataFrame(np.array(samp))"
   ]
  },
  {
   "cell_type": "code",
   "execution_count": null,
   "metadata": {},
   "outputs": [],
   "source": [
    "#get the summary statistics\n",
    "df.describe()"
   ]
  },
  {
   "cell_type": "markdown",
   "metadata": {},
   "source": [
    "following this methodology (https://www.researchgate.net/post/Is_there_a_way_of_generating_random_fake_numerical_data_that_would_fit_statistical_descriptions)\n",
    "\n",
    "To manipulate the values closer to the original dataset, I must (1) subtract the mean from all the values, (2) create a new dataframe, (3) calculate the sd of the resulting df, (4) divide the sd of the original dataset by the sd of the calculated dataset to a get a co-efficient. (5) Then multiply all the simulated values by that coefficient, (6) add the desired mean (ie. of the original dataset) back to all the values to get the final simulated dataset which should immitate the original quite well.\n",
    "\n",
    "step (1): add another column of values made by subtracting the mean from the df values:"
   ]
  },
  {
   "cell_type": "code",
   "execution_count": null,
   "metadata": {},
   "outputs": [],
   "source": [
    "df.columns = ['value', 'less mean', 'coef', 'add mean']\n",
    "df['less mean'] = '0'\n",
    "df['coef'] = '0'\n",
    "df['add mean'] = '0'\n",
    "df"
   ]
  },
  {
   "cell_type": "code",
   "execution_count": null,
   "metadata": {},
   "outputs": [],
   "source": []
  }
 ],
 "metadata": {
  "kernelspec": {
   "display_name": "Python 3",
   "language": "python",
   "name": "python3"
  },
  "language_info": {
   "codemirror_mode": {
    "name": "ipython",
    "version": 3
   },
   "file_extension": ".py",
   "mimetype": "text/x-python",
   "name": "python",
   "nbconvert_exporter": "python",
   "pygments_lexer": "ipython3",
   "version": "3.6.5"
  }
 },
 "nbformat": 4,
 "nbformat_minor": 2
}
